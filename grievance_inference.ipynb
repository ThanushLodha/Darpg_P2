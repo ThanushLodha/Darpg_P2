{
 "cells": [
  {
   "cell_type": "code",
   "execution_count": 1,
   "metadata": {},
   "outputs": [
    {
     "name": "stderr",
     "output_type": "stream",
     "text": [
      "C:\\Users\\DELL\\AppData\\Local\\Temp\\ipykernel_9840\\4080736814.py:1: DeprecationWarning: \n",
      "Pyarrow will become a required dependency of pandas in the next major release of pandas (pandas 3.0),\n",
      "(to allow more performant data types, such as the Arrow string type, and better interoperability with other libraries)\n",
      "but was not found to be installed on your system.\n",
      "If this would cause problems for you,\n",
      "please provide us feedback at https://github.com/pandas-dev/pandas/issues/54466\n",
      "        \n",
      "  import pandas as pd\n"
     ]
    }
   ],
   "source": [
    "import pandas as pd"
   ]
  },
  {
   "cell_type": "code",
   "execution_count": 2,
   "metadata": {},
   "outputs": [
    {
     "data": {
      "text/html": [
       "<div>\n",
       "<style scoped>\n",
       "    .dataframe tbody tr th:only-of-type {\n",
       "        vertical-align: middle;\n",
       "    }\n",
       "\n",
       "    .dataframe tbody tr th {\n",
       "        vertical-align: top;\n",
       "    }\n",
       "\n",
       "    .dataframe thead th {\n",
       "        text-align: right;\n",
       "    }\n",
       "</style>\n",
       "<table border=\"1\" class=\"dataframe\">\n",
       "  <thead>\n",
       "    <tr style=\"text-align: right;\">\n",
       "      <th></th>\n",
       "      <th>_id</th>\n",
       "      <th>CategoryV7</th>\n",
       "      <th>DiaryDate</th>\n",
       "      <th>UserCode</th>\n",
       "      <th>closing_date</th>\n",
       "      <th>dist_name</th>\n",
       "      <th>org_code</th>\n",
       "      <th>pincode</th>\n",
       "      <th>recvd_date</th>\n",
       "      <th>registration_no</th>\n",
       "      <th>remarks_text</th>\n",
       "      <th>resolution_date</th>\n",
       "      <th>sex</th>\n",
       "      <th>state</th>\n",
       "      <th>subject_content_text</th>\n",
       "      <th>v7_target</th>\n",
       "    </tr>\n",
       "  </thead>\n",
       "  <tbody>\n",
       "    <tr>\n",
       "      <th>0</th>\n",
       "      <td>MORLY/E/2023/0000001</td>\n",
       "      <td>{'$numberLong': '11578'}</td>\n",
       "      <td>{'$date': '2023-01-01T00:00:19.977+0000'}</td>\n",
       "      <td>110124.0</td>\n",
       "      <td>{'$date': '2023-01-04T00:00:00.000+0000'}</td>\n",
       "      <td>North 24 Parganas</td>\n",
       "      <td>MORLY</td>\n",
       "      <td>700130</td>\n",
       "      <td>{'$date': '2023-01-01T00:00:19.977+0000'}</td>\n",
       "      <td>MORLY/E/2023/0000001</td>\n",
       "      <td>As per railway record,  there is no authoriz...</td>\n",
       "      <td>{'$date': '2023-01-04T00:00:00.000+0000'}</td>\n",
       "      <td>M</td>\n",
       "      <td>WB</td>\n",
       "      <td>Railways, ( Railway Board) &gt;&gt; Miscellaneous\\r\\...</td>\n",
       "      <td>No</td>\n",
       "    </tr>\n",
       "    <tr>\n",
       "      <th>1</th>\n",
       "      <td>GOVUP/E/2023/0000001</td>\n",
       "      <td>None</td>\n",
       "      <td>{'$date': '2023-01-01T00:01:29.780+0000'}</td>\n",
       "      <td>45427.0</td>\n",
       "      <td>{'$date': '2023-01-24T00:00:00.000+0000'}</td>\n",
       "      <td>NaN</td>\n",
       "      <td>GOVUP</td>\n",
       "      <td>203001</td>\n",
       "      <td>{'$date': '2023-01-01T00:01:28.567+0000'}</td>\n",
       "      <td>GOVUP/E/2023/0000001</td>\n",
       "      <td>NaN</td>\n",
       "      <td>NaN</td>\n",
       "      <td>M</td>\n",
       "      <td>UP</td>\n",
       "      <td>XAXPX/X/X0X2X4X0X0\\tREGARDING CBCID INSPECTION...</td>\n",
       "      <td>NaN</td>\n",
       "    </tr>\n",
       "    <tr>\n",
       "      <th>2</th>\n",
       "      <td>MOLBR/E/2023/0000001</td>\n",
       "      <td>{'$numberLong': '2369'}</td>\n",
       "      <td>{'$date': '2023-01-01T00:01:45.593+0000'}</td>\n",
       "      <td>1356254.0</td>\n",
       "      <td>{'$date': '2023-01-12T00:00:00.000+0000'}</td>\n",
       "      <td>Hyderabad</td>\n",
       "      <td>MOLBR</td>\n",
       "      <td>500023</td>\n",
       "      <td>{'$date': '2023-01-01T00:01:45.593+0000'}</td>\n",
       "      <td>MOLBR/E/2023/0000001</td>\n",
       "      <td>Sir/Madam, With reference to Grievance no. XO...</td>\n",
       "      <td>{'$date': '2023-01-12T00:00:00.000+0000'}</td>\n",
       "      <td>M</td>\n",
       "      <td>TG</td>\n",
       "      <td>Labour and Employment &gt;&gt; PF Withdrawal &gt;&gt; Othe...</td>\n",
       "      <td>No</td>\n",
       "    </tr>\n",
       "    <tr>\n",
       "      <th>3</th>\n",
       "      <td>MOLBR/E/2023/0000002</td>\n",
       "      <td>{'$numberLong': '2379'}</td>\n",
       "      <td>{'$date': '2023-01-01T00:02:07.247+0000'}</td>\n",
       "      <td>1092136.0</td>\n",
       "      <td>{'$date': '2023-01-06T00:00:00.000+0000'}</td>\n",
       "      <td>Nagpur</td>\n",
       "      <td>MOLBR</td>\n",
       "      <td>440001</td>\n",
       "      <td>{'$date': '2023-01-01T00:02:07.247+0000'}</td>\n",
       "      <td>MOLBR/E/2023/0000002</td>\n",
       "      <td>Please submit establishment clarification let...</td>\n",
       "      <td>{'$date': '2023-01-06T00:00:00.000+0000'}</td>\n",
       "      <td>M</td>\n",
       "      <td>MH</td>\n",
       "      <td>Labour and Employment &gt;&gt; Pension &gt;&gt; Others\\r\\n...</td>\n",
       "      <td>No</td>\n",
       "    </tr>\n",
       "    <tr>\n",
       "      <th>4</th>\n",
       "      <td>GOVUP/E/2023/0000002</td>\n",
       "      <td>None</td>\n",
       "      <td>{'$date': '2023-01-01T00:02:25.663+0000'}</td>\n",
       "      <td>45427.0</td>\n",
       "      <td>{'$date': '2023-01-24T00:00:00.000+0000'}</td>\n",
       "      <td>NaN</td>\n",
       "      <td>GOVUP</td>\n",
       "      <td>203001</td>\n",
       "      <td>{'$date': '2023-01-01T00:02:24.913+0000'}</td>\n",
       "      <td>GOVUP/E/2023/0000002</td>\n",
       "      <td>NaN</td>\n",
       "      <td>NaN</td>\n",
       "      <td>M</td>\n",
       "      <td>UP</td>\n",
       "      <td>XAXPX/X/X0X2X4X0X8\\tREGARDING CBCID INSPECTION...</td>\n",
       "      <td>NaN</td>\n",
       "    </tr>\n",
       "  </tbody>\n",
       "</table>\n",
       "</div>"
      ],
      "text/plain": [
       "                    _id                CategoryV7  \\\n",
       "0  MORLY/E/2023/0000001  {'$numberLong': '11578'}   \n",
       "1  GOVUP/E/2023/0000001                      None   \n",
       "2  MOLBR/E/2023/0000001   {'$numberLong': '2369'}   \n",
       "3  MOLBR/E/2023/0000002   {'$numberLong': '2379'}   \n",
       "4  GOVUP/E/2023/0000002                      None   \n",
       "\n",
       "                                   DiaryDate   UserCode  \\\n",
       "0  {'$date': '2023-01-01T00:00:19.977+0000'}   110124.0   \n",
       "1  {'$date': '2023-01-01T00:01:29.780+0000'}    45427.0   \n",
       "2  {'$date': '2023-01-01T00:01:45.593+0000'}  1356254.0   \n",
       "3  {'$date': '2023-01-01T00:02:07.247+0000'}  1092136.0   \n",
       "4  {'$date': '2023-01-01T00:02:25.663+0000'}    45427.0   \n",
       "\n",
       "                                closing_date          dist_name org_code  \\\n",
       "0  {'$date': '2023-01-04T00:00:00.000+0000'}  North 24 Parganas    MORLY   \n",
       "1  {'$date': '2023-01-24T00:00:00.000+0000'}                NaN    GOVUP   \n",
       "2  {'$date': '2023-01-12T00:00:00.000+0000'}          Hyderabad    MOLBR   \n",
       "3  {'$date': '2023-01-06T00:00:00.000+0000'}             Nagpur    MOLBR   \n",
       "4  {'$date': '2023-01-24T00:00:00.000+0000'}                NaN    GOVUP   \n",
       "\n",
       "  pincode                                 recvd_date       registration_no  \\\n",
       "0  700130  {'$date': '2023-01-01T00:00:19.977+0000'}  MORLY/E/2023/0000001   \n",
       "1  203001  {'$date': '2023-01-01T00:01:28.567+0000'}  GOVUP/E/2023/0000001   \n",
       "2  500023  {'$date': '2023-01-01T00:01:45.593+0000'}  MOLBR/E/2023/0000001   \n",
       "3  440001  {'$date': '2023-01-01T00:02:07.247+0000'}  MOLBR/E/2023/0000002   \n",
       "4  203001  {'$date': '2023-01-01T00:02:24.913+0000'}  GOVUP/E/2023/0000002   \n",
       "\n",
       "                                        remarks_text  \\\n",
       "0    As per railway record,  there is no authoriz...   \n",
       "1                                                NaN   \n",
       "2   Sir/Madam, With reference to Grievance no. XO...   \n",
       "3   Please submit establishment clarification let...   \n",
       "4                                                NaN   \n",
       "\n",
       "                             resolution_date sex state  \\\n",
       "0  {'$date': '2023-01-04T00:00:00.000+0000'}   M    WB   \n",
       "1                                        NaN   M    UP   \n",
       "2  {'$date': '2023-01-12T00:00:00.000+0000'}   M    TG   \n",
       "3  {'$date': '2023-01-06T00:00:00.000+0000'}   M    MH   \n",
       "4                                        NaN   M    UP   \n",
       "\n",
       "                                subject_content_text v7_target  \n",
       "0  Railways, ( Railway Board) >> Miscellaneous\\r\\...        No  \n",
       "1  XAXPX/X/X0X2X4X0X0\\tREGARDING CBCID INSPECTION...       NaN  \n",
       "2  Labour and Employment >> PF Withdrawal >> Othe...        No  \n",
       "3  Labour and Employment >> Pension >> Others\\r\\n...        No  \n",
       "4  XAXPX/X/X0X2X4X0X8\\tREGARDING CBCID INSPECTION...       NaN  "
      ]
     },
     "execution_count": 2,
     "metadata": {},
     "output_type": "execute_result"
    }
   ],
   "source": [
    "data = pd.read_json(\"no_pii_grievance_v2\\\\no_pii_grievance_v2.json\")\n",
    "data.head()"
   ]
  },
  {
   "cell_type": "code",
   "execution_count": 3,
   "metadata": {},
   "outputs": [
    {
     "data": {
      "text/plain": [
       "175784"
      ]
     },
     "execution_count": 3,
     "metadata": {},
     "output_type": "execute_result"
    }
   ],
   "source": [
    "len(data)"
   ]
  },
  {
   "cell_type": "code",
   "execution_count": 4,
   "metadata": {},
   "outputs": [
    {
     "data": {
      "text/plain": [
       "_id                          0\n",
       "CategoryV7              112162\n",
       "DiaryDate                    0\n",
       "UserCode                 77687\n",
       "closing_date             13419\n",
       "dist_name                52976\n",
       "org_code                   383\n",
       "pincode                  14282\n",
       "recvd_date                   0\n",
       "registration_no              0\n",
       "remarks_text             68880\n",
       "resolution_date          68880\n",
       "sex                          0\n",
       "state                      263\n",
       "subject_content_text         0\n",
       "v7_target               119121\n",
       "dtype: int64"
      ]
     },
     "execution_count": 4,
     "metadata": {},
     "output_type": "execute_result"
    }
   ],
   "source": [
    "data.isna().sum()"
   ]
  },
  {
   "cell_type": "code",
   "execution_count": 5,
   "metadata": {},
   "outputs": [],
   "source": [
    "data.drop(['DiaryDate','closing_date','dist_name','pincode','recvd_date','sex','state'],inplace=True,axis=1)"
   ]
  },
  {
   "cell_type": "code",
   "execution_count": 6,
   "metadata": {},
   "outputs": [
    {
     "data": {
      "text/html": [
       "<div>\n",
       "<style scoped>\n",
       "    .dataframe tbody tr th:only-of-type {\n",
       "        vertical-align: middle;\n",
       "    }\n",
       "\n",
       "    .dataframe tbody tr th {\n",
       "        vertical-align: top;\n",
       "    }\n",
       "\n",
       "    .dataframe thead th {\n",
       "        text-align: right;\n",
       "    }\n",
       "</style>\n",
       "<table border=\"1\" class=\"dataframe\">\n",
       "  <thead>\n",
       "    <tr style=\"text-align: right;\">\n",
       "      <th></th>\n",
       "      <th>_id</th>\n",
       "      <th>CategoryV7</th>\n",
       "      <th>UserCode</th>\n",
       "      <th>org_code</th>\n",
       "      <th>registration_no</th>\n",
       "      <th>remarks_text</th>\n",
       "      <th>resolution_date</th>\n",
       "      <th>subject_content_text</th>\n",
       "      <th>v7_target</th>\n",
       "    </tr>\n",
       "  </thead>\n",
       "  <tbody>\n",
       "    <tr>\n",
       "      <th>0</th>\n",
       "      <td>MORLY/E/2023/0000001</td>\n",
       "      <td>{'$numberLong': '11578'}</td>\n",
       "      <td>110124.0</td>\n",
       "      <td>MORLY</td>\n",
       "      <td>MORLY/E/2023/0000001</td>\n",
       "      <td>As per railway record,  there is no authoriz...</td>\n",
       "      <td>{'$date': '2023-01-04T00:00:00.000+0000'}</td>\n",
       "      <td>Railways, ( Railway Board) &gt;&gt; Miscellaneous\\r\\...</td>\n",
       "      <td>No</td>\n",
       "    </tr>\n",
       "    <tr>\n",
       "      <th>1</th>\n",
       "      <td>GOVUP/E/2023/0000001</td>\n",
       "      <td>None</td>\n",
       "      <td>45427.0</td>\n",
       "      <td>GOVUP</td>\n",
       "      <td>GOVUP/E/2023/0000001</td>\n",
       "      <td>NaN</td>\n",
       "      <td>NaN</td>\n",
       "      <td>XAXPX/X/X0X2X4X0X0\\tREGARDING CBCID INSPECTION...</td>\n",
       "      <td>NaN</td>\n",
       "    </tr>\n",
       "    <tr>\n",
       "      <th>2</th>\n",
       "      <td>MOLBR/E/2023/0000001</td>\n",
       "      <td>{'$numberLong': '2369'}</td>\n",
       "      <td>1356254.0</td>\n",
       "      <td>MOLBR</td>\n",
       "      <td>MOLBR/E/2023/0000001</td>\n",
       "      <td>Sir/Madam, With reference to Grievance no. XO...</td>\n",
       "      <td>{'$date': '2023-01-12T00:00:00.000+0000'}</td>\n",
       "      <td>Labour and Employment &gt;&gt; PF Withdrawal &gt;&gt; Othe...</td>\n",
       "      <td>No</td>\n",
       "    </tr>\n",
       "    <tr>\n",
       "      <th>3</th>\n",
       "      <td>MOLBR/E/2023/0000002</td>\n",
       "      <td>{'$numberLong': '2379'}</td>\n",
       "      <td>1092136.0</td>\n",
       "      <td>MOLBR</td>\n",
       "      <td>MOLBR/E/2023/0000002</td>\n",
       "      <td>Please submit establishment clarification let...</td>\n",
       "      <td>{'$date': '2023-01-06T00:00:00.000+0000'}</td>\n",
       "      <td>Labour and Employment &gt;&gt; Pension &gt;&gt; Others\\r\\n...</td>\n",
       "      <td>No</td>\n",
       "    </tr>\n",
       "    <tr>\n",
       "      <th>4</th>\n",
       "      <td>GOVUP/E/2023/0000002</td>\n",
       "      <td>None</td>\n",
       "      <td>45427.0</td>\n",
       "      <td>GOVUP</td>\n",
       "      <td>GOVUP/E/2023/0000002</td>\n",
       "      <td>NaN</td>\n",
       "      <td>NaN</td>\n",
       "      <td>XAXPX/X/X0X2X4X0X8\\tREGARDING CBCID INSPECTION...</td>\n",
       "      <td>NaN</td>\n",
       "    </tr>\n",
       "  </tbody>\n",
       "</table>\n",
       "</div>"
      ],
      "text/plain": [
       "                    _id                CategoryV7   UserCode org_code  \\\n",
       "0  MORLY/E/2023/0000001  {'$numberLong': '11578'}   110124.0    MORLY   \n",
       "1  GOVUP/E/2023/0000001                      None    45427.0    GOVUP   \n",
       "2  MOLBR/E/2023/0000001   {'$numberLong': '2369'}  1356254.0    MOLBR   \n",
       "3  MOLBR/E/2023/0000002   {'$numberLong': '2379'}  1092136.0    MOLBR   \n",
       "4  GOVUP/E/2023/0000002                      None    45427.0    GOVUP   \n",
       "\n",
       "        registration_no                                       remarks_text  \\\n",
       "0  MORLY/E/2023/0000001    As per railway record,  there is no authoriz...   \n",
       "1  GOVUP/E/2023/0000001                                                NaN   \n",
       "2  MOLBR/E/2023/0000001   Sir/Madam, With reference to Grievance no. XO...   \n",
       "3  MOLBR/E/2023/0000002   Please submit establishment clarification let...   \n",
       "4  GOVUP/E/2023/0000002                                                NaN   \n",
       "\n",
       "                             resolution_date  \\\n",
       "0  {'$date': '2023-01-04T00:00:00.000+0000'}   \n",
       "1                                        NaN   \n",
       "2  {'$date': '2023-01-12T00:00:00.000+0000'}   \n",
       "3  {'$date': '2023-01-06T00:00:00.000+0000'}   \n",
       "4                                        NaN   \n",
       "\n",
       "                                subject_content_text v7_target  \n",
       "0  Railways, ( Railway Board) >> Miscellaneous\\r\\...        No  \n",
       "1  XAXPX/X/X0X2X4X0X0\\tREGARDING CBCID INSPECTION...       NaN  \n",
       "2  Labour and Employment >> PF Withdrawal >> Othe...        No  \n",
       "3  Labour and Employment >> Pension >> Others\\r\\n...        No  \n",
       "4  XAXPX/X/X0X2X4X0X8\\tREGARDING CBCID INSPECTION...       NaN  "
      ]
     },
     "execution_count": 6,
     "metadata": {},
     "output_type": "execute_result"
    }
   ],
   "source": [
    "data.head()"
   ]
  },
  {
   "cell_type": "code",
   "execution_count": 7,
   "metadata": {},
   "outputs": [
    {
     "data": {
      "text/plain": [
       "Index(['_id', 'CategoryV7', 'UserCode', 'org_code', 'registration_no',\n",
       "       'remarks_text', 'resolution_date', 'subject_content_text', 'v7_target'],\n",
       "      dtype='object')"
      ]
     },
     "execution_count": 7,
     "metadata": {},
     "output_type": "execute_result"
    }
   ],
   "source": [
    "data.columns"
   ]
  },
  {
   "cell_type": "code",
   "execution_count": 8,
   "metadata": {},
   "outputs": [
    {
     "data": {
      "text/plain": [
       "35900"
      ]
     },
     "execution_count": 8,
     "metadata": {},
     "output_type": "execute_result"
    }
   ],
   "source": [
    "l=data['UserCode'].unique()\n",
    "len(l)"
   ]
  },
  {
   "cell_type": "code",
   "execution_count": 9,
   "metadata": {},
   "outputs": [
    {
     "data": {
      "text/plain": [
       "175784"
      ]
     },
     "execution_count": 9,
     "metadata": {},
     "output_type": "execute_result"
    }
   ],
   "source": [
    "l=data['registration_no'].unique()\n",
    "len(l)"
   ]
  },
  {
   "cell_type": "code",
   "execution_count": 10,
   "metadata": {},
   "outputs": [
    {
     "data": {
      "text/plain": [
       "175784"
      ]
     },
     "execution_count": 10,
     "metadata": {},
     "output_type": "execute_result"
    }
   ],
   "source": [
    "l=data['_id'].unique()\n",
    "len(l)"
   ]
  },
  {
   "cell_type": "code",
   "execution_count": 11,
   "metadata": {},
   "outputs": [
    {
     "data": {
      "text/html": [
       "<div>\n",
       "<style scoped>\n",
       "    .dataframe tbody tr th:only-of-type {\n",
       "        vertical-align: middle;\n",
       "    }\n",
       "\n",
       "    .dataframe tbody tr th {\n",
       "        vertical-align: top;\n",
       "    }\n",
       "\n",
       "    .dataframe thead th {\n",
       "        text-align: right;\n",
       "    }\n",
       "</style>\n",
       "<table border=\"1\" class=\"dataframe\">\n",
       "  <thead>\n",
       "    <tr style=\"text-align: right;\">\n",
       "      <th></th>\n",
       "      <th>_id</th>\n",
       "      <th>CategoryV7</th>\n",
       "      <th>UserCode</th>\n",
       "      <th>org_code</th>\n",
       "      <th>registration_no</th>\n",
       "      <th>remarks_text</th>\n",
       "      <th>resolution_date</th>\n",
       "      <th>subject_content_text</th>\n",
       "      <th>v7_target</th>\n",
       "    </tr>\n",
       "  </thead>\n",
       "  <tbody>\n",
       "  </tbody>\n",
       "</table>\n",
       "</div>"
      ],
      "text/plain": [
       "Empty DataFrame\n",
       "Columns: [_id, CategoryV7, UserCode, org_code, registration_no, remarks_text, resolution_date, subject_content_text, v7_target]\n",
       "Index: []"
      ]
     },
     "execution_count": 11,
     "metadata": {},
     "output_type": "execute_result"
    }
   ],
   "source": [
    "subdf = data[data['_id']!=data['registration_no']]\n",
    "subdf.head()"
   ]
  },
  {
   "cell_type": "code",
   "execution_count": 12,
   "metadata": {},
   "outputs": [],
   "source": [
    "data.drop(['registration_no'],inplace=True,axis=1)"
   ]
  },
  {
   "cell_type": "code",
   "execution_count": 13,
   "metadata": {},
   "outputs": [],
   "source": [
    "data.drop(['resolution_date'],inplace=True,axis=1)"
   ]
  },
  {
   "cell_type": "code",
   "execution_count": 14,
   "metadata": {},
   "outputs": [
    {
     "data": {
      "text/plain": [
       "Index(['_id', 'CategoryV7', 'UserCode', 'org_code', 'remarks_text',\n",
       "       'subject_content_text', 'v7_target'],\n",
       "      dtype='object')"
      ]
     },
     "execution_count": 14,
     "metadata": {},
     "output_type": "execute_result"
    }
   ],
   "source": [
    "data.columns"
   ]
  },
  {
   "cell_type": "code",
   "execution_count": 15,
   "metadata": {},
   "outputs": [
    {
     "data": {
      "text/html": [
       "<div>\n",
       "<style scoped>\n",
       "    .dataframe tbody tr th:only-of-type {\n",
       "        vertical-align: middle;\n",
       "    }\n",
       "\n",
       "    .dataframe tbody tr th {\n",
       "        vertical-align: top;\n",
       "    }\n",
       "\n",
       "    .dataframe thead th {\n",
       "        text-align: right;\n",
       "    }\n",
       "</style>\n",
       "<table border=\"1\" class=\"dataframe\">\n",
       "  <thead>\n",
       "    <tr style=\"text-align: right;\">\n",
       "      <th></th>\n",
       "      <th>_id</th>\n",
       "      <th>CategoryV7</th>\n",
       "      <th>UserCode</th>\n",
       "      <th>org_code</th>\n",
       "      <th>remarks_text</th>\n",
       "      <th>subject_content_text</th>\n",
       "      <th>v7_target</th>\n",
       "    </tr>\n",
       "  </thead>\n",
       "  <tbody>\n",
       "    <tr>\n",
       "      <th>0</th>\n",
       "      <td>MORLY/E/2023/0000001</td>\n",
       "      <td>{'$numberLong': '11578'}</td>\n",
       "      <td>110124.0</td>\n",
       "      <td>MORLY</td>\n",
       "      <td>As per railway record,  there is no authoriz...</td>\n",
       "      <td>Railways, ( Railway Board) &gt;&gt; Miscellaneous\\r\\...</td>\n",
       "      <td>No</td>\n",
       "    </tr>\n",
       "    <tr>\n",
       "      <th>2</th>\n",
       "      <td>MOLBR/E/2023/0000001</td>\n",
       "      <td>{'$numberLong': '2369'}</td>\n",
       "      <td>1356254.0</td>\n",
       "      <td>MOLBR</td>\n",
       "      <td>Sir/Madam, With reference to Grievance no. XO...</td>\n",
       "      <td>Labour and Employment &gt;&gt; PF Withdrawal &gt;&gt; Othe...</td>\n",
       "      <td>No</td>\n",
       "    </tr>\n",
       "    <tr>\n",
       "      <th>3</th>\n",
       "      <td>MOLBR/E/2023/0000002</td>\n",
       "      <td>{'$numberLong': '2379'}</td>\n",
       "      <td>1092136.0</td>\n",
       "      <td>MOLBR</td>\n",
       "      <td>Please submit establishment clarification let...</td>\n",
       "      <td>Labour and Employment &gt;&gt; Pension &gt;&gt; Others\\r\\n...</td>\n",
       "      <td>No</td>\n",
       "    </tr>\n",
       "    <tr>\n",
       "      <th>10</th>\n",
       "      <td>DOTEL/E/2023/0000001</td>\n",
       "      <td>{'$numberLong': '60'}</td>\n",
       "      <td>20318.0</td>\n",
       "      <td>DOTEL</td>\n",
       "      <td>The reply of 6 numbers of PG cases by Shri Ra...</td>\n",
       "      <td>Telecommunications &gt;&gt; Suggestions &gt;&gt; Others\\r\\...</td>\n",
       "      <td>No</td>\n",
       "    </tr>\n",
       "    <tr>\n",
       "      <th>17</th>\n",
       "      <td>MOLBR/E/2023/0000003</td>\n",
       "      <td>{'$numberLong': '2398'}</td>\n",
       "      <td>1356254.0</td>\n",
       "      <td>MOLBR</td>\n",
       "      <td>With reference to member grievance , it is to...</td>\n",
       "      <td>Labour and Employment &gt;&gt; Transfer related issu...</td>\n",
       "      <td>No</td>\n",
       "    </tr>\n",
       "    <tr>\n",
       "      <th>...</th>\n",
       "      <td>...</td>\n",
       "      <td>...</td>\n",
       "      <td>...</td>\n",
       "      <td>...</td>\n",
       "      <td>...</td>\n",
       "      <td>...</td>\n",
       "      <td>...</td>\n",
       "    </tr>\n",
       "    <tr>\n",
       "      <th>175775</th>\n",
       "      <td>DEAID/E/2023/0007864</td>\n",
       "      <td>{'$numberLong': '374'}</td>\n",
       "      <td>111682.0</td>\n",
       "      <td>DEAID</td>\n",
       "      <td>We have checked the details with the relevant...</td>\n",
       "      <td>Financial Services (Insurance Division) &gt;&gt; Age...</td>\n",
       "      <td>No</td>\n",
       "    </tr>\n",
       "    <tr>\n",
       "      <th>175776</th>\n",
       "      <td>MOLBR/E/2023/0010863</td>\n",
       "      <td>{'$numberLong': '2358'}</td>\n",
       "      <td>150404.0</td>\n",
       "      <td>MOLBR</td>\n",
       "      <td>Sir, with reference to the member grievance, ...</td>\n",
       "      <td>Labour and Employment &gt;&gt; Others (EPFO)\\r\\n\\r\\n...</td>\n",
       "      <td>No</td>\n",
       "    </tr>\n",
       "    <tr>\n",
       "      <th>175779</th>\n",
       "      <td>UIDAI/E/2023/0001182</td>\n",
       "      <td>{'$numberLong': '7753'}</td>\n",
       "      <td>NaN</td>\n",
       "      <td>UIDAI</td>\n",
       "      <td>Dear Resident ,\\r\\nPlease register your compl...</td>\n",
       "      <td>मै  एक csc e gov. का एक साधारण vle हूँ, मैंने ...</td>\n",
       "      <td>No</td>\n",
       "    </tr>\n",
       "    <tr>\n",
       "      <th>175780</th>\n",
       "      <td>DPOST/E/2023/0004221</td>\n",
       "      <td>{'$numberLong': '77'}</td>\n",
       "      <td>785742.0</td>\n",
       "      <td>DPOST</td>\n",
       "      <td>Sir,\\r\\n This Article is delivered on dated 25...</td>\n",
       "      <td>Posts &gt;&gt; Delay/ Non - Delivery/Abstraction of ...</td>\n",
       "      <td>No</td>\n",
       "    </tr>\n",
       "    <tr>\n",
       "      <th>175782</th>\n",
       "      <td>MOLBR/E/2023/0010864</td>\n",
       "      <td>{'$numberLong': '2378'}</td>\n",
       "      <td>1722766.0</td>\n",
       "      <td>MOLBR</td>\n",
       "      <td>Sir/Madam, you are hereby advised to apply fo...</td>\n",
       "      <td>Labour and Employment &gt;&gt; Pension &gt;&gt; Transfer i...</td>\n",
       "      <td>No</td>\n",
       "    </tr>\n",
       "  </tbody>\n",
       "</table>\n",
       "<p>37209 rows × 7 columns</p>\n",
       "</div>"
      ],
      "text/plain": [
       "                         _id                CategoryV7   UserCode org_code  \\\n",
       "0       MORLY/E/2023/0000001  {'$numberLong': '11578'}   110124.0    MORLY   \n",
       "2       MOLBR/E/2023/0000001   {'$numberLong': '2369'}  1356254.0    MOLBR   \n",
       "3       MOLBR/E/2023/0000002   {'$numberLong': '2379'}  1092136.0    MOLBR   \n",
       "10      DOTEL/E/2023/0000001     {'$numberLong': '60'}    20318.0    DOTEL   \n",
       "17      MOLBR/E/2023/0000003   {'$numberLong': '2398'}  1356254.0    MOLBR   \n",
       "...                      ...                       ...        ...      ...   \n",
       "175775  DEAID/E/2023/0007864    {'$numberLong': '374'}   111682.0    DEAID   \n",
       "175776  MOLBR/E/2023/0010863   {'$numberLong': '2358'}   150404.0    MOLBR   \n",
       "175779  UIDAI/E/2023/0001182   {'$numberLong': '7753'}        NaN    UIDAI   \n",
       "175780  DPOST/E/2023/0004221     {'$numberLong': '77'}   785742.0    DPOST   \n",
       "175782  MOLBR/E/2023/0010864   {'$numberLong': '2378'}  1722766.0    MOLBR   \n",
       "\n",
       "                                             remarks_text  \\\n",
       "0         As per railway record,  there is no authoriz...   \n",
       "2        Sir/Madam, With reference to Grievance no. XO...   \n",
       "3        Please submit establishment clarification let...   \n",
       "10       The reply of 6 numbers of PG cases by Shri Ra...   \n",
       "17       With reference to member grievance , it is to...   \n",
       "...                                                   ...   \n",
       "175775   We have checked the details with the relevant...   \n",
       "175776   Sir, with reference to the member grievance, ...   \n",
       "175779   Dear Resident ,\\r\\nPlease register your compl...   \n",
       "175780  Sir,\\r\\n This Article is delivered on dated 25...   \n",
       "175782   Sir/Madam, you are hereby advised to apply fo...   \n",
       "\n",
       "                                     subject_content_text v7_target  \n",
       "0       Railways, ( Railway Board) >> Miscellaneous\\r\\...        No  \n",
       "2       Labour and Employment >> PF Withdrawal >> Othe...        No  \n",
       "3       Labour and Employment >> Pension >> Others\\r\\n...        No  \n",
       "10      Telecommunications >> Suggestions >> Others\\r\\...        No  \n",
       "17      Labour and Employment >> Transfer related issu...        No  \n",
       "...                                                   ...       ...  \n",
       "175775  Financial Services (Insurance Division) >> Age...        No  \n",
       "175776  Labour and Employment >> Others (EPFO)\\r\\n\\r\\n...        No  \n",
       "175779  मै  एक csc e gov. का एक साधारण vle हूँ, मैंने ...        No  \n",
       "175780  Posts >> Delay/ Non - Delivery/Abstraction of ...        No  \n",
       "175782  Labour and Employment >> Pension >> Transfer i...        No  \n",
       "\n",
       "[37209 rows x 7 columns]"
      ]
     },
     "execution_count": 15,
     "metadata": {},
     "output_type": "execute_result"
    }
   ],
   "source": [
    "l=data['v7_target'].unique()\n",
    "# len(l)\n",
    "# for i in l:\n",
    "    # print(i)\n",
    "data[data['v7_target']=='No']\n",
    "# print(len(data[data['v7_target']=='No']))\n",
    "# print(len(data[data['v7_target'].isna()]))"
   ]
  },
  {
   "cell_type": "code",
   "execution_count": 16,
   "metadata": {},
   "outputs": [
    {
     "data": {
      "text/html": [
       "<div>\n",
       "<style scoped>\n",
       "    .dataframe tbody tr th:only-of-type {\n",
       "        vertical-align: middle;\n",
       "    }\n",
       "\n",
       "    .dataframe tbody tr th {\n",
       "        vertical-align: top;\n",
       "    }\n",
       "\n",
       "    .dataframe thead th {\n",
       "        text-align: right;\n",
       "    }\n",
       "</style>\n",
       "<table border=\"1\" class=\"dataframe\">\n",
       "  <thead>\n",
       "    <tr style=\"text-align: right;\">\n",
       "      <th></th>\n",
       "      <th>_id</th>\n",
       "      <th>CategoryV7</th>\n",
       "      <th>UserCode</th>\n",
       "      <th>org_code</th>\n",
       "      <th>remarks_text</th>\n",
       "      <th>subject_content_text</th>\n",
       "      <th>v7_target</th>\n",
       "    </tr>\n",
       "  </thead>\n",
       "  <tbody>\n",
       "    <tr>\n",
       "      <th>1</th>\n",
       "      <td>GOVUP/E/2023/0000001</td>\n",
       "      <td>None</td>\n",
       "      <td>45427.0</td>\n",
       "      <td>GOVUP</td>\n",
       "      <td>NaN</td>\n",
       "      <td>XAXPX/X/X0X2X4X0X0\\tREGARDING CBCID INSPECTION...</td>\n",
       "      <td>NaN</td>\n",
       "    </tr>\n",
       "    <tr>\n",
       "      <th>4</th>\n",
       "      <td>GOVUP/E/2023/0000002</td>\n",
       "      <td>None</td>\n",
       "      <td>45427.0</td>\n",
       "      <td>GOVUP</td>\n",
       "      <td>NaN</td>\n",
       "      <td>XAXPX/X/X0X2X4X0X8\\tREGARDING CBCID INSPECTION...</td>\n",
       "      <td>NaN</td>\n",
       "    </tr>\n",
       "    <tr>\n",
       "      <th>5</th>\n",
       "      <td>GOVUP/E/2023/0000003</td>\n",
       "      <td>None</td>\n",
       "      <td>45427.0</td>\n",
       "      <td>GOVUP</td>\n",
       "      <td>NaN</td>\n",
       "      <td>XAXPX/X/X0X2X4X0X7\\tREGARDING CBCID INSPECTION...</td>\n",
       "      <td>NaN</td>\n",
       "    </tr>\n",
       "    <tr>\n",
       "      <th>11</th>\n",
       "      <td>GOVTG/E/2023/0000001</td>\n",
       "      <td>None</td>\n",
       "      <td>711170.0</td>\n",
       "      <td>GOVTG</td>\n",
       "      <td>The Role of General Administration Departmen...</td>\n",
       "      <td>My INDIAN Passport number: X7X3X4X0 \\r\\n\\r\\nMy...</td>\n",
       "      <td>NaN</td>\n",
       "    </tr>\n",
       "    <tr>\n",
       "      <th>12</th>\n",
       "      <td>MINHA/E/2023/0000002</td>\n",
       "      <td>{'$numberLong': '4789'}</td>\n",
       "      <td>20021.0</td>\n",
       "      <td>MINHA</td>\n",
       "      <td>NaN</td>\n",
       "      <td>Home Affairs &gt;&gt; Award Related/Other National i...</td>\n",
       "      <td>NaN</td>\n",
       "    </tr>\n",
       "  </tbody>\n",
       "</table>\n",
       "</div>"
      ],
      "text/plain": [
       "                     _id               CategoryV7  UserCode org_code  \\\n",
       "1   GOVUP/E/2023/0000001                     None   45427.0    GOVUP   \n",
       "4   GOVUP/E/2023/0000002                     None   45427.0    GOVUP   \n",
       "5   GOVUP/E/2023/0000003                     None   45427.0    GOVUP   \n",
       "11  GOVTG/E/2023/0000001                     None  711170.0    GOVTG   \n",
       "12  MINHA/E/2023/0000002  {'$numberLong': '4789'}   20021.0    MINHA   \n",
       "\n",
       "                                         remarks_text  \\\n",
       "1                                                 NaN   \n",
       "4                                                 NaN   \n",
       "5                                                 NaN   \n",
       "11    The Role of General Administration Departmen...   \n",
       "12                                                NaN   \n",
       "\n",
       "                                 subject_content_text v7_target  \n",
       "1   XAXPX/X/X0X2X4X0X0\\tREGARDING CBCID INSPECTION...       NaN  \n",
       "4   XAXPX/X/X0X2X4X0X8\\tREGARDING CBCID INSPECTION...       NaN  \n",
       "5   XAXPX/X/X0X2X4X0X7\\tREGARDING CBCID INSPECTION...       NaN  \n",
       "11  My INDIAN Passport number: X7X3X4X0 \\r\\n\\r\\nMy...       NaN  \n",
       "12  Home Affairs >> Award Related/Other National i...       NaN  "
      ]
     },
     "execution_count": 16,
     "metadata": {},
     "output_type": "execute_result"
    }
   ],
   "source": [
    "subdf = data[data['v7_target'].isna()]\n",
    "subdf.head()"
   ]
  },
  {
   "cell_type": "code",
   "execution_count": 17,
   "metadata": {},
   "outputs": [
    {
     "data": {
      "text/html": [
       "<div>\n",
       "<style scoped>\n",
       "    .dataframe tbody tr th:only-of-type {\n",
       "        vertical-align: middle;\n",
       "    }\n",
       "\n",
       "    .dataframe tbody tr th {\n",
       "        vertical-align: top;\n",
       "    }\n",
       "\n",
       "    .dataframe thead th {\n",
       "        text-align: right;\n",
       "    }\n",
       "</style>\n",
       "<table border=\"1\" class=\"dataframe\">\n",
       "  <thead>\n",
       "    <tr style=\"text-align: right;\">\n",
       "      <th></th>\n",
       "      <th>_id</th>\n",
       "      <th>CategoryV7</th>\n",
       "      <th>UserCode</th>\n",
       "      <th>org_code</th>\n",
       "      <th>remarks_text</th>\n",
       "      <th>subject_content_text</th>\n",
       "      <th>v7_target</th>\n",
       "    </tr>\n",
       "  </thead>\n",
       "  <tbody>\n",
       "    <tr>\n",
       "      <th>6</th>\n",
       "      <td>MODEF/E/2023/0000001</td>\n",
       "      <td>{'$numberLong': '20493'}</td>\n",
       "      <td>408844.0</td>\n",
       "      <td>MODEF</td>\n",
       "      <td>Son is eligible for dependent CSD Smart Card ...</td>\n",
       "      <td>Defence &gt;&gt; Canteen Stores Depot related &gt;&gt; Non...</td>\n",
       "      <td>Yes</td>\n",
       "    </tr>\n",
       "    <tr>\n",
       "      <th>7</th>\n",
       "      <td>DEPOJ/E/2023/0000002</td>\n",
       "      <td>{'$numberLong': '5270'}</td>\n",
       "      <td>951216.0</td>\n",
       "      <td>DEPOJ</td>\n",
       "      <td>S.P/kkLR.No.P3//22 Dated 04.01.2023 மனுதாரர் ...</td>\n",
       "      <td>Justice &gt;&gt; Others\\r\\n-----------------------\\r...</td>\n",
       "      <td>Yes</td>\n",
       "    </tr>\n",
       "    <tr>\n",
       "      <th>8</th>\n",
       "      <td>MEAPD/E/2023/0000001</td>\n",
       "      <td>{'$numberLong': '1441'}</td>\n",
       "      <td>711170.0</td>\n",
       "      <td>MEAPD</td>\n",
       "      <td>As per the HCI, Wellington, the service sough ...</td>\n",
       "      <td>External Affairs &gt;&gt; Others\\r\\n----------------...</td>\n",
       "      <td>Yes</td>\n",
       "    </tr>\n",
       "    <tr>\n",
       "      <th>9</th>\n",
       "      <td>DORLD/E/2023/0000001</td>\n",
       "      <td>{'$numberLong': '5073'}</td>\n",
       "      <td>20318.0</td>\n",
       "      <td>DORLD</td>\n",
       "      <td>ग्रामीण सड़क राज्य सरकार का विषय है और राज्य ...</td>\n",
       "      <td>Rural Development &gt;&gt; Pradhan Mantri Gram Sadak...</td>\n",
       "      <td>Yes</td>\n",
       "    </tr>\n",
       "    <tr>\n",
       "      <th>13</th>\n",
       "      <td>MOPRJ/E/2023/0000001</td>\n",
       "      <td>{'$numberLong': '11142'}</td>\n",
       "      <td>20318.0</td>\n",
       "      <td>MOPRJ</td>\n",
       "      <td>Grievance letter forwarded to Panchayati Raj ...</td>\n",
       "      <td>Panchayati Raj &gt;&gt; Panchayat Development Relate...</td>\n",
       "      <td>Yes</td>\n",
       "    </tr>\n",
       "  </tbody>\n",
       "</table>\n",
       "</div>"
      ],
      "text/plain": [
       "                     _id                CategoryV7  UserCode org_code  \\\n",
       "6   MODEF/E/2023/0000001  {'$numberLong': '20493'}  408844.0    MODEF   \n",
       "7   DEPOJ/E/2023/0000002   {'$numberLong': '5270'}  951216.0    DEPOJ   \n",
       "8   MEAPD/E/2023/0000001   {'$numberLong': '1441'}  711170.0    MEAPD   \n",
       "9   DORLD/E/2023/0000001   {'$numberLong': '5073'}   20318.0    DORLD   \n",
       "13  MOPRJ/E/2023/0000001  {'$numberLong': '11142'}   20318.0    MOPRJ   \n",
       "\n",
       "                                         remarks_text  \\\n",
       "6    Son is eligible for dependent CSD Smart Card ...   \n",
       "7    S.P/kkLR.No.P3//22 Dated 04.01.2023 மனுதாரர் ...   \n",
       "8   As per the HCI, Wellington, the service sough ...   \n",
       "9    ग्रामीण सड़क राज्य सरकार का विषय है और राज्य ...   \n",
       "13   Grievance letter forwarded to Panchayati Raj ...   \n",
       "\n",
       "                                 subject_content_text v7_target  \n",
       "6   Defence >> Canteen Stores Depot related >> Non...       Yes  \n",
       "7   Justice >> Others\\r\\n-----------------------\\r...       Yes  \n",
       "8   External Affairs >> Others\\r\\n----------------...       Yes  \n",
       "9   Rural Development >> Pradhan Mantri Gram Sadak...       Yes  \n",
       "13  Panchayati Raj >> Panchayat Development Relate...       Yes  "
      ]
     },
     "execution_count": 17,
     "metadata": {},
     "output_type": "execute_result"
    }
   ],
   "source": [
    "subdf1 = data[data['v7_target']=='Yes']\n",
    "subdf2 = data[data['v7_target']=='No']\n",
    "subdf = pd.concat([subdf1,subdf2]) \n",
    "subdf.head()"
   ]
  },
  {
   "cell_type": "code",
   "execution_count": 18,
   "metadata": {},
   "outputs": [
    {
     "data": {
      "text/plain": [
       "_id                        0\n",
       "CategoryV7                 0\n",
       "UserCode                5177\n",
       "org_code                   0\n",
       "remarks_text            8551\n",
       "subject_content_text       0\n",
       "v7_target                  0\n",
       "dtype: int64"
      ]
     },
     "execution_count": 18,
     "metadata": {},
     "output_type": "execute_result"
    }
   ],
   "source": [
    "subdf.isna().sum()"
   ]
  },
  {
   "cell_type": "code",
   "execution_count": 19,
   "metadata": {},
   "outputs": [
    {
     "data": {
      "text/plain": [
       "56663"
      ]
     },
     "execution_count": 19,
     "metadata": {},
     "output_type": "execute_result"
    }
   ],
   "source": [
    "len(subdf)"
   ]
  },
  {
   "cell_type": "code",
   "execution_count": 20,
   "metadata": {},
   "outputs": [
    {
     "data": {
      "text/plain": [
       "175784"
      ]
     },
     "execution_count": 20,
     "metadata": {},
     "output_type": "execute_result"
    }
   ],
   "source": [
    "len(data)"
   ]
  },
  {
   "cell_type": "code",
   "execution_count": 21,
   "metadata": {},
   "outputs": [
    {
     "data": {
      "text/html": [
       "<div>\n",
       "<style scoped>\n",
       "    .dataframe tbody tr th:only-of-type {\n",
       "        vertical-align: middle;\n",
       "    }\n",
       "\n",
       "    .dataframe tbody tr th {\n",
       "        vertical-align: top;\n",
       "    }\n",
       "\n",
       "    .dataframe thead th {\n",
       "        text-align: right;\n",
       "    }\n",
       "</style>\n",
       "<table border=\"1\" class=\"dataframe\">\n",
       "  <thead>\n",
       "    <tr style=\"text-align: right;\">\n",
       "      <th></th>\n",
       "      <th>_id</th>\n",
       "      <th>CategoryV7</th>\n",
       "      <th>UserCode</th>\n",
       "      <th>org_code</th>\n",
       "      <th>remarks_text</th>\n",
       "      <th>subject_content_text</th>\n",
       "      <th>v7_target</th>\n",
       "    </tr>\n",
       "  </thead>\n",
       "  <tbody>\n",
       "    <tr>\n",
       "      <th>0</th>\n",
       "      <td>MORLY/E/2023/0000001</td>\n",
       "      <td>{'$numberLong': '11578'}</td>\n",
       "      <td>110124.0</td>\n",
       "      <td>MORLY</td>\n",
       "      <td>As per railway record,  there is no authoriz...</td>\n",
       "      <td>Railways, ( Railway Board) &gt;&gt; Miscellaneous\\r\\...</td>\n",
       "      <td>No</td>\n",
       "    </tr>\n",
       "    <tr>\n",
       "      <th>1</th>\n",
       "      <td>GOVUP/E/2023/0000001</td>\n",
       "      <td>None</td>\n",
       "      <td>45427.0</td>\n",
       "      <td>GOVUP</td>\n",
       "      <td>NaN</td>\n",
       "      <td>XAXPX/X/X0X2X4X0X0\\tREGARDING CBCID INSPECTION...</td>\n",
       "      <td>NaN</td>\n",
       "    </tr>\n",
       "    <tr>\n",
       "      <th>2</th>\n",
       "      <td>MOLBR/E/2023/0000001</td>\n",
       "      <td>{'$numberLong': '2369'}</td>\n",
       "      <td>1356254.0</td>\n",
       "      <td>MOLBR</td>\n",
       "      <td>Sir/Madam, With reference to Grievance no. XO...</td>\n",
       "      <td>Labour and Employment &gt;&gt; PF Withdrawal &gt;&gt; Othe...</td>\n",
       "      <td>No</td>\n",
       "    </tr>\n",
       "    <tr>\n",
       "      <th>3</th>\n",
       "      <td>MOLBR/E/2023/0000002</td>\n",
       "      <td>{'$numberLong': '2379'}</td>\n",
       "      <td>1092136.0</td>\n",
       "      <td>MOLBR</td>\n",
       "      <td>Please submit establishment clarification let...</td>\n",
       "      <td>Labour and Employment &gt;&gt; Pension &gt;&gt; Others\\r\\n...</td>\n",
       "      <td>No</td>\n",
       "    </tr>\n",
       "    <tr>\n",
       "      <th>4</th>\n",
       "      <td>GOVUP/E/2023/0000002</td>\n",
       "      <td>None</td>\n",
       "      <td>45427.0</td>\n",
       "      <td>GOVUP</td>\n",
       "      <td>NaN</td>\n",
       "      <td>XAXPX/X/X0X2X4X0X8\\tREGARDING CBCID INSPECTION...</td>\n",
       "      <td>NaN</td>\n",
       "    </tr>\n",
       "  </tbody>\n",
       "</table>\n",
       "</div>"
      ],
      "text/plain": [
       "                    _id                CategoryV7   UserCode org_code  \\\n",
       "0  MORLY/E/2023/0000001  {'$numberLong': '11578'}   110124.0    MORLY   \n",
       "1  GOVUP/E/2023/0000001                      None    45427.0    GOVUP   \n",
       "2  MOLBR/E/2023/0000001   {'$numberLong': '2369'}  1356254.0    MOLBR   \n",
       "3  MOLBR/E/2023/0000002   {'$numberLong': '2379'}  1092136.0    MOLBR   \n",
       "4  GOVUP/E/2023/0000002                      None    45427.0    GOVUP   \n",
       "\n",
       "                                        remarks_text  \\\n",
       "0    As per railway record,  there is no authoriz...   \n",
       "1                                                NaN   \n",
       "2   Sir/Madam, With reference to Grievance no. XO...   \n",
       "3   Please submit establishment clarification let...   \n",
       "4                                                NaN   \n",
       "\n",
       "                                subject_content_text v7_target  \n",
       "0  Railways, ( Railway Board) >> Miscellaneous\\r\\...        No  \n",
       "1  XAXPX/X/X0X2X4X0X0\\tREGARDING CBCID INSPECTION...       NaN  \n",
       "2  Labour and Employment >> PF Withdrawal >> Othe...        No  \n",
       "3  Labour and Employment >> Pension >> Others\\r\\n...        No  \n",
       "4  XAXPX/X/X0X2X4X0X8\\tREGARDING CBCID INSPECTION...       NaN  "
      ]
     },
     "execution_count": 21,
     "metadata": {},
     "output_type": "execute_result"
    }
   ],
   "source": [
    "data.head()"
   ]
  },
  {
   "cell_type": "code",
   "execution_count": 22,
   "metadata": {},
   "outputs": [
    {
     "data": {
      "text/plain": [
       "_id                          0\n",
       "CategoryV7              112162\n",
       "UserCode                 77687\n",
       "org_code                   383\n",
       "remarks_text             68880\n",
       "subject_content_text         0\n",
       "v7_target               119121\n",
       "dtype: int64"
      ]
     },
     "execution_count": 22,
     "metadata": {},
     "output_type": "execute_result"
    }
   ],
   "source": [
    "data.isna().sum()"
   ]
  },
  {
   "cell_type": "code",
   "execution_count": 23,
   "metadata": {},
   "outputs": [
    {
     "data": {
      "text/html": [
       "<div>\n",
       "<style scoped>\n",
       "    .dataframe tbody tr th:only-of-type {\n",
       "        vertical-align: middle;\n",
       "    }\n",
       "\n",
       "    .dataframe tbody tr th {\n",
       "        vertical-align: top;\n",
       "    }\n",
       "\n",
       "    .dataframe thead th {\n",
       "        text-align: right;\n",
       "    }\n",
       "</style>\n",
       "<table border=\"1\" class=\"dataframe\">\n",
       "  <thead>\n",
       "    <tr style=\"text-align: right;\">\n",
       "      <th></th>\n",
       "      <th>_id</th>\n",
       "      <th>CategoryV7</th>\n",
       "      <th>UserCode</th>\n",
       "      <th>org_code</th>\n",
       "      <th>remarks_text</th>\n",
       "      <th>subject_content_text</th>\n",
       "      <th>v7_target</th>\n",
       "    </tr>\n",
       "  </thead>\n",
       "  <tbody>\n",
       "    <tr>\n",
       "      <th>6</th>\n",
       "      <td>MODEF/E/2023/0000001</td>\n",
       "      <td>{'$numberLong': '20493'}</td>\n",
       "      <td>408844.0</td>\n",
       "      <td>MODEF</td>\n",
       "      <td>Son is eligible for dependent CSD Smart Card ...</td>\n",
       "      <td>Defence &gt;&gt; Canteen Stores Depot related &gt;&gt; Non...</td>\n",
       "      <td>Yes</td>\n",
       "    </tr>\n",
       "    <tr>\n",
       "      <th>7</th>\n",
       "      <td>DEPOJ/E/2023/0000002</td>\n",
       "      <td>{'$numberLong': '5270'}</td>\n",
       "      <td>951216.0</td>\n",
       "      <td>DEPOJ</td>\n",
       "      <td>S.P/kkLR.No.P3//22 Dated 04.01.2023 மனுதாரர் ...</td>\n",
       "      <td>Justice &gt;&gt; Others\\r\\n-----------------------\\r...</td>\n",
       "      <td>Yes</td>\n",
       "    </tr>\n",
       "    <tr>\n",
       "      <th>8</th>\n",
       "      <td>MEAPD/E/2023/0000001</td>\n",
       "      <td>{'$numberLong': '1441'}</td>\n",
       "      <td>711170.0</td>\n",
       "      <td>MEAPD</td>\n",
       "      <td>As per the HCI, Wellington, the service sough ...</td>\n",
       "      <td>External Affairs &gt;&gt; Others\\r\\n----------------...</td>\n",
       "      <td>Yes</td>\n",
       "    </tr>\n",
       "    <tr>\n",
       "      <th>9</th>\n",
       "      <td>DORLD/E/2023/0000001</td>\n",
       "      <td>{'$numberLong': '5073'}</td>\n",
       "      <td>20318.0</td>\n",
       "      <td>DORLD</td>\n",
       "      <td>ग्रामीण सड़क राज्य सरकार का विषय है और राज्य ...</td>\n",
       "      <td>Rural Development &gt;&gt; Pradhan Mantri Gram Sadak...</td>\n",
       "      <td>Yes</td>\n",
       "    </tr>\n",
       "    <tr>\n",
       "      <th>13</th>\n",
       "      <td>MOPRJ/E/2023/0000001</td>\n",
       "      <td>{'$numberLong': '11142'}</td>\n",
       "      <td>20318.0</td>\n",
       "      <td>MOPRJ</td>\n",
       "      <td>Grievance letter forwarded to Panchayati Raj ...</td>\n",
       "      <td>Panchayati Raj &gt;&gt; Panchayat Development Relate...</td>\n",
       "      <td>Yes</td>\n",
       "    </tr>\n",
       "  </tbody>\n",
       "</table>\n",
       "</div>"
      ],
      "text/plain": [
       "                     _id                CategoryV7  UserCode org_code  \\\n",
       "6   MODEF/E/2023/0000001  {'$numberLong': '20493'}  408844.0    MODEF   \n",
       "7   DEPOJ/E/2023/0000002   {'$numberLong': '5270'}  951216.0    DEPOJ   \n",
       "8   MEAPD/E/2023/0000001   {'$numberLong': '1441'}  711170.0    MEAPD   \n",
       "9   DORLD/E/2023/0000001   {'$numberLong': '5073'}   20318.0    DORLD   \n",
       "13  MOPRJ/E/2023/0000001  {'$numberLong': '11142'}   20318.0    MOPRJ   \n",
       "\n",
       "                                         remarks_text  \\\n",
       "6    Son is eligible for dependent CSD Smart Card ...   \n",
       "7    S.P/kkLR.No.P3//22 Dated 04.01.2023 மனுதாரர் ...   \n",
       "8   As per the HCI, Wellington, the service sough ...   \n",
       "9    ग्रामीण सड़क राज्य सरकार का विषय है और राज्य ...   \n",
       "13   Grievance letter forwarded to Panchayati Raj ...   \n",
       "\n",
       "                                 subject_content_text v7_target  \n",
       "6   Defence >> Canteen Stores Depot related >> Non...       Yes  \n",
       "7   Justice >> Others\\r\\n-----------------------\\r...       Yes  \n",
       "8   External Affairs >> Others\\r\\n----------------...       Yes  \n",
       "9   Rural Development >> Pradhan Mantri Gram Sadak...       Yes  \n",
       "13  Panchayati Raj >> Panchayat Development Relate...       Yes  "
      ]
     },
     "execution_count": 23,
     "metadata": {},
     "output_type": "execute_result"
    }
   ],
   "source": [
    "data_v7_yes = data[data['v7_target']=='Yes']\n",
    "data_v7_yes.head()"
   ]
  },
  {
   "cell_type": "code",
   "execution_count": 24,
   "metadata": {},
   "outputs": [
    {
     "data": {
      "text/plain": [
       "_id                        0\n",
       "CategoryV7                 0\n",
       "UserCode                4655\n",
       "org_code                   0\n",
       "remarks_text            6194\n",
       "subject_content_text       0\n",
       "v7_target                  0\n",
       "dtype: int64"
      ]
     },
     "execution_count": 24,
     "metadata": {},
     "output_type": "execute_result"
    }
   ],
   "source": [
    "data_v7_yes.isna().sum()"
   ]
  },
  {
   "cell_type": "code",
   "execution_count": 25,
   "metadata": {},
   "outputs": [],
   "source": [
    "with open(\"abc.txt\", \"w\", encoding=\"utf-8\") as file:\n",
    "    file.write(data_v7_yes[\"subject_content_text\"].to_string(index=False))"
   ]
  },
  {
   "cell_type": "code",
   "execution_count": 26,
   "metadata": {},
   "outputs": [],
   "source": [
    "data_v7_yes.to_json('grievance.json', index=False)"
   ]
  },
  {
   "cell_type": "code",
   "execution_count": 27,
   "metadata": {},
   "outputs": [
    {
     "data": {
      "text/html": [
       "<div>\n",
       "<style scoped>\n",
       "    .dataframe tbody tr th:only-of-type {\n",
       "        vertical-align: middle;\n",
       "    }\n",
       "\n",
       "    .dataframe tbody tr th {\n",
       "        vertical-align: top;\n",
       "    }\n",
       "\n",
       "    .dataframe thead th {\n",
       "        text-align: right;\n",
       "    }\n",
       "</style>\n",
       "<table border=\"1\" class=\"dataframe\">\n",
       "  <thead>\n",
       "    <tr style=\"text-align: right;\">\n",
       "      <th></th>\n",
       "      <th>_id</th>\n",
       "      <th>CategoryV7</th>\n",
       "      <th>UserCode</th>\n",
       "      <th>org_code</th>\n",
       "      <th>remarks_text</th>\n",
       "      <th>subject_content_text</th>\n",
       "      <th>v7_target</th>\n",
       "    </tr>\n",
       "  </thead>\n",
       "  <tbody>\n",
       "    <tr>\n",
       "      <th>0</th>\n",
       "      <td>MORLY/E/2023/0000001</td>\n",
       "      <td>{'$numberLong': '11578'}</td>\n",
       "      <td>110124.0</td>\n",
       "      <td>MORLY</td>\n",
       "      <td>As per railway record,  there is no authoriz...</td>\n",
       "      <td>Railways, ( Railway Board) &gt;&gt; Miscellaneous\\r\\...</td>\n",
       "      <td>No</td>\n",
       "    </tr>\n",
       "    <tr>\n",
       "      <th>2</th>\n",
       "      <td>MOLBR/E/2023/0000001</td>\n",
       "      <td>{'$numberLong': '2369'}</td>\n",
       "      <td>1356254.0</td>\n",
       "      <td>MOLBR</td>\n",
       "      <td>Sir/Madam, With reference to Grievance no. XO...</td>\n",
       "      <td>Labour and Employment &gt;&gt; PF Withdrawal &gt;&gt; Othe...</td>\n",
       "      <td>No</td>\n",
       "    </tr>\n",
       "    <tr>\n",
       "      <th>3</th>\n",
       "      <td>MOLBR/E/2023/0000002</td>\n",
       "      <td>{'$numberLong': '2379'}</td>\n",
       "      <td>1092136.0</td>\n",
       "      <td>MOLBR</td>\n",
       "      <td>Please submit establishment clarification let...</td>\n",
       "      <td>Labour and Employment &gt;&gt; Pension &gt;&gt; Others\\r\\n...</td>\n",
       "      <td>No</td>\n",
       "    </tr>\n",
       "    <tr>\n",
       "      <th>10</th>\n",
       "      <td>DOTEL/E/2023/0000001</td>\n",
       "      <td>{'$numberLong': '60'}</td>\n",
       "      <td>20318.0</td>\n",
       "      <td>DOTEL</td>\n",
       "      <td>The reply of 6 numbers of PG cases by Shri Ra...</td>\n",
       "      <td>Telecommunications &gt;&gt; Suggestions &gt;&gt; Others\\r\\...</td>\n",
       "      <td>No</td>\n",
       "    </tr>\n",
       "    <tr>\n",
       "      <th>17</th>\n",
       "      <td>MOLBR/E/2023/0000003</td>\n",
       "      <td>{'$numberLong': '2398'}</td>\n",
       "      <td>1356254.0</td>\n",
       "      <td>MOLBR</td>\n",
       "      <td>With reference to member grievance , it is to...</td>\n",
       "      <td>Labour and Employment &gt;&gt; Transfer related issu...</td>\n",
       "      <td>No</td>\n",
       "    </tr>\n",
       "  </tbody>\n",
       "</table>\n",
       "</div>"
      ],
      "text/plain": [
       "                     _id                CategoryV7   UserCode org_code  \\\n",
       "0   MORLY/E/2023/0000001  {'$numberLong': '11578'}   110124.0    MORLY   \n",
       "2   MOLBR/E/2023/0000001   {'$numberLong': '2369'}  1356254.0    MOLBR   \n",
       "3   MOLBR/E/2023/0000002   {'$numberLong': '2379'}  1092136.0    MOLBR   \n",
       "10  DOTEL/E/2023/0000001     {'$numberLong': '60'}    20318.0    DOTEL   \n",
       "17  MOLBR/E/2023/0000003   {'$numberLong': '2398'}  1356254.0    MOLBR   \n",
       "\n",
       "                                         remarks_text  \\\n",
       "0     As per railway record,  there is no authoriz...   \n",
       "2    Sir/Madam, With reference to Grievance no. XO...   \n",
       "3    Please submit establishment clarification let...   \n",
       "10   The reply of 6 numbers of PG cases by Shri Ra...   \n",
       "17   With reference to member grievance , it is to...   \n",
       "\n",
       "                                 subject_content_text v7_target  \n",
       "0   Railways, ( Railway Board) >> Miscellaneous\\r\\...        No  \n",
       "2   Labour and Employment >> PF Withdrawal >> Othe...        No  \n",
       "3   Labour and Employment >> Pension >> Others\\r\\n...        No  \n",
       "10  Telecommunications >> Suggestions >> Others\\r\\...        No  \n",
       "17  Labour and Employment >> Transfer related issu...        No  "
      ]
     },
     "execution_count": 27,
     "metadata": {},
     "output_type": "execute_result"
    }
   ],
   "source": [
    "data_v7_no = data[data['v7_target']=='No']\n",
    "data_v7_no.head()"
   ]
  },
  {
   "cell_type": "code",
   "execution_count": 28,
   "metadata": {},
   "outputs": [],
   "source": [
    "data_v7_no.to_csv('data_v7_no.csv', index=False)"
   ]
  },
  {
   "cell_type": "code",
   "execution_count": 29,
   "metadata": {},
   "outputs": [
    {
     "data": {
      "text/plain": [
       "19454"
      ]
     },
     "execution_count": 29,
     "metadata": {},
     "output_type": "execute_result"
    }
   ],
   "source": [
    "len(data_v7_yes)"
   ]
  },
  {
   "cell_type": "code",
   "execution_count": 30,
   "metadata": {},
   "outputs": [
    {
     "data": {
      "text/plain": [
       "37209"
      ]
     },
     "execution_count": 30,
     "metadata": {},
     "output_type": "execute_result"
    }
   ],
   "source": [
    "len(data_v7_no)"
   ]
  },
  {
   "cell_type": "code",
   "execution_count": null,
   "metadata": {},
   "outputs": [],
   "source": []
  }
 ],
 "metadata": {
  "kernelspec": {
   "display_name": "venv",
   "language": "python",
   "name": "python3"
  },
  "language_info": {
   "codemirror_mode": {
    "name": "ipython",
    "version": 3
   },
   "file_extension": ".py",
   "mimetype": "text/x-python",
   "name": "python",
   "nbconvert_exporter": "python",
   "pygments_lexer": "ipython3",
   "version": "3.11.6"
  }
 },
 "nbformat": 4,
 "nbformat_minor": 2
}
